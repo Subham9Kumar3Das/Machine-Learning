{
 "cells": [
  {
   "cell_type": "markdown",
   "id": "ed5fa813-e152-4081-8ee3-62888e5915de",
   "metadata": {
    "jp-MarkdownHeadingCollapsed": true,
    "tags": []
   },
   "source": [
    "### Q1- Explain the following with an example\n",
    "**1)** *Artificial Intelligence*\n",
    "\n",
    "**2)** *Machine Learning*\n",
    "\n",
    "**3)** *Deep Learning*"
   ]
  },
  {
   "cell_type": "markdown",
   "id": "19d20f13-b596-4daa-b053-36cf2c565204",
   "metadata": {},
   "source": [
    "***Artificial Intelligence (AI):*** AI enables machines to understand, reason, and learn from information. It powers self-driving cars and recommendation systems like Netflix.\n",
    "\n",
    "***Machine Learning (ML):*** ML algorithms improve as they process more data, like predicting stock prices based on historical trends.\n",
    "\n",
    "***Deep Learning:*** Deep Learning's intricate neural networks enable it to tackle complex tasks, like language translation in applications like Google Translate."
   ]
  },
  {
   "cell_type": "markdown",
   "id": "a82890fd-8dbe-434e-9ff2-be3a27fc3c2d",
   "metadata": {
    "jp-MarkdownHeadingCollapsed": true,
    "tags": []
   },
   "source": [
    "### Q2- What is supervised learning? List some examples of supervised learning."
   ]
  },
  {
   "cell_type": "markdown",
   "id": "cfb30781-ff3b-46b1-bc5b-2c6c90f75196",
   "metadata": {},
   "source": [
    "\n",
    "***Supervised Learning*** is a type of machine learning where the algorithm is trained on a labeled dataset, meaning that the input data is paired with the corresponding desired output. The algorithm learns to map inputs to outputs by generalizing patterns from the labeled examples.\n",
    "\n",
    "Examples of supervised learning are:\n",
    "\n",
    "***1.Image Classification***\n",
    "\n",
    "***2.Spam Detector***\n",
    "\n",
    "***3.Language Translation***\n",
    "\n",
    "***4.House Pricing***\n",
    "\n",
    "***5.Handwriting Recognisation***"
   ]
  },
  {
   "cell_type": "markdown",
   "id": "68464f27-646c-4133-a6be-d49063e9e29b",
   "metadata": {
    "jp-MarkdownHeadingCollapsed": true,
    "tags": []
   },
   "source": [
    "### Q3- What is unsupervised learning? List some examples of unsupervised learning."
   ]
  },
  {
   "cell_type": "markdown",
   "id": "cbf85c55-e371-4090-97bd-9429ede1dc4d",
   "metadata": {},
   "source": [
    "\n",
    "***Unsupervised Learning*** is a type of machine learning where the algorithm is given a dataset without labeled outputs. The algorithm's goal is to find patterns, structures, or relationships in the data without explicit guidance on what the output should be.\n",
    "EXAMPLES Are:\n",
    "\n",
    "***1.Topic Modeling***\n",
    "\n",
    "***2.Clustering***\n",
    "\n",
    "***3.Dimensionality Reduction***\n",
    "\n",
    "***4.Market Basket Analysis***\n",
    "\n",
    "***5.Density Estimation***"
   ]
  },
  {
   "cell_type": "markdown",
   "id": "c4dcc403-4d1d-4593-97f6-128741a61db4",
   "metadata": {
    "jp-MarkdownHeadingCollapsed": true,
    "tags": []
   },
   "source": [
    "### Q4- What is the difference between AI, ML, DL, and DS?"
   ]
  },
  {
   "cell_type": "markdown",
   "id": "ebe5e502-07d3-4f50-aec0-245aa967261c",
   "metadata": {},
   "source": [
    "\n",
    "\n",
    "\n",
    "Artificial Intelligence (AI): AI is about making computers smart like humans. It's the big picture concept where machines learn, think, and act intelligently. Virtual assistants and self-driving cars are examples.\n",
    "\n",
    "Machine Learning (ML): ML is a part of AI where computers learn from data. Instead of being explicitly programmed, they improve with experience. Think of spam filters or predicting stock prices.\n",
    "\n",
    "Deep Learning (DL): DL is a type of ML using complex neural networks inspired by the human brain. It's excellent for tasks like image and speech recognition. It's like how a child learns gradually from simple to complex.\n",
    "\n",
    "Data Science (DS): DS is the art of extracting valuable insights from data. It involves collecting, analyzing, and interpreting information to help make informed decisions. It's the detective work behind AI, ML, and DL."
   ]
  },
  {
   "cell_type": "markdown",
   "id": "654160bf-7db8-4862-a90e-27838654df0b",
   "metadata": {
    "jp-MarkdownHeadingCollapsed": true,
    "tags": []
   },
   "source": [
    "### Q5- What are the main differences between supervised, unsupervised, and semi-supervised learning?"
   ]
  },
  {
   "cell_type": "markdown",
   "id": "f8375ef1-2231-44d4-8aba-1b2813aeee43",
   "metadata": {},
   "source": [
    "Supervised Learning: In supervised learning, the algorithm learns from labeled examples, where it's given input data along with the correct output. It's like a teacher guiding a student with answers. Examples include predicting prices or classifying images.\n",
    "\n",
    "Unsupervised Learning: Unsupervised learning has no labeled data. The algorithm explores patterns on its own, like organizing a messy room without instructions. Clustering and anomaly detection are examples.\n",
    "\n",
    "Semi-Supervised Learning: Semi-supervised learning combines both labeled and unlabeled data. It's like having some answers but needing to figure out the rest. This can be useful when getting labeled data is expensive or time-consuming."
   ]
  },
  {
   "cell_type": "markdown",
   "id": "488ede61-dc46-4ece-b7ec-0d61d6848cb2",
   "metadata": {
    "jp-MarkdownHeadingCollapsed": true,
    "tags": []
   },
   "source": [
    "### Q6- What is train, test and validation split? Explain the importance of each term."
   ]
  },
  {
   "cell_type": "markdown",
   "id": "0c5e8f31-4359-45cc-b6bc-97efdd61e336",
   "metadata": {},
   "source": [
    "Train Split: This is the portion of data used to train or teach the machine learning model. It's like learning from a textbook before an exam. The model learns patterns in this data.\n",
    "\n",
    "Test Split: The test split is used to evaluate how well the model performs on new, unseen data. It's like taking a mock test to see how well you've learned. This split helps gauge the model's real-world performance.\n",
    "\n",
    "Validation Split: The validation split is like a practice exam. It's a small portion of the data used to fine-tune the model's parameters. This split helps in making adjustments to improve the model's performance."
   ]
  },
  {
   "cell_type": "markdown",
   "id": "0dce9020-5e34-43f8-8af0-010c1a213939",
   "metadata": {
    "jp-MarkdownHeadingCollapsed": true,
    "tags": []
   },
   "source": [
    "### Q7- How can unsupervised learning be used in anomaly detection?"
   ]
  },
  {
   "cell_type": "markdown",
   "id": "6606cf73-9fc2-4eb7-b13e-1c56c92afeca",
   "metadata": {},
   "source": [
    "Unsupervised learning can be used in anomaly detection by allowing the algorithm to learn what \"normal\" data looks like without explicitly telling it what anomalies are. It finds unusual patterns on its own, like spotting a rare item in a collection without being told what exactly to look for. This helps identify unexpected or suspicious behaviors in data, such as fraud or defects."
   ]
  },
  {
   "cell_type": "markdown",
   "id": "e3040803-f921-46ae-ab3b-4461f8e4605b",
   "metadata": {
    "jp-MarkdownHeadingCollapsed": true,
    "tags": []
   },
   "source": [
    "### Q8- List down some commonly used supervised learning algorithms and unsupeervised learning algorithms."
   ]
  },
  {
   "cell_type": "markdown",
   "id": "80619644-a15e-4368-97b7-e3673468a2b7",
   "metadata": {},
   "source": [
    "Supervised Learning Algorithms:\n",
    "\n",
    "Linear Regression: Predicts a continuous value based on input features. For instance, predicting house prices based on features like size and location.\n",
    "\n",
    "Decision Trees: Makes decisions by splitting data into branches of questions. Used in scenarios like classifying customers for targeted marketing.\n",
    "\n",
    "Random Forest: An ensemble of decision trees. It's more robust and accurate, commonly used in predicting outcomes like diseases.\n",
    "\n",
    "Support Vector Machines (SVM): Separates data into different classes by finding the best line or curve. Used in image classification and text categorization.\n",
    "\n",
    "Unsupervised Learning Algorithms:\n",
    "\n",
    "K-Means Clustering: Divides data into clusters based on similarity. Useful for customer segmentation or grouping similar data points.\n",
    "\n",
    "Hierarchical Clustering: Builds a tree of clusters to represent the data's hierarchy. Helps identify nested relationships within data.\n",
    "\n",
    "Principal Component Analysis (PCA): Reduces the dimensions of data while maintaining important features. Used for data compression and visualization.\n",
    "\n",
    "Anomaly Detection Algorithms: Like Isolation Forest or One-Class SVM, these algorithms detect rare or unusual data points in a dataset."
   ]
  }
 ],
 "metadata": {
  "kernelspec": {
   "display_name": "Python 3 (ipykernel)",
   "language": "python",
   "name": "python3"
  },
  "language_info": {
   "codemirror_mode": {
    "name": "ipython",
    "version": 3
   },
   "file_extension": ".py",
   "mimetype": "text/x-python",
   "name": "python",
   "nbconvert_exporter": "python",
   "pygments_lexer": "ipython3",
   "version": "3.10.8"
  }
 },
 "nbformat": 4,
 "nbformat_minor": 5
}
